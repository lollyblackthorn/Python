{
  "nbformat": 4,
  "nbformat_minor": 0,
  "metadata": {
    "colab": {
      "name": "Exercícios_Módulo1.ipynb",
      "provenance": [],
      "collapsed_sections": [],
      "authorship_tag": "ABX9TyP5OoHCins+JSlf6gsoa0+Q",
      "include_colab_link": true
    },
    "kernelspec": {
      "name": "python3",
      "display_name": "Python 3"
    },
    "language_info": {
      "name": "python"
    }
  },
  "cells": [
    {
      "cell_type": "markdown",
      "metadata": {
        "id": "view-in-github",
        "colab_type": "text"
      },
      "source": [
        "<a href=\"https://colab.research.google.com/github/lollyblackthorn/Python/blob/main/Exerc%C3%ADcios_M%C3%B3dulo1.ipynb\" target=\"_parent\"><img src=\"https://colab.research.google.com/assets/colab-badge.svg\" alt=\"Open In Colab\"/></a>"
      ]
    },
    {
      "cell_type": "markdown",
      "source": [
        "# Exercícios módulo 1 Short Class Phyton - Let's Code :\n",
        "\n"
      ],
      "metadata": {
        "id": "lYOlXAXPGHp8"
      }
    },
    {
      "cell_type": "code",
      "source": [
        "from google.colab import drive\n",
        "drive.mount('/content/drive')"
      ],
      "metadata": {
        "colab": {
          "base_uri": "https://localhost:8080/"
        },
        "id": "8PhTDqmNfhoz",
        "outputId": "ebf1f352-4fc0-4b6e-9532-8421c0eff1df"
      },
      "execution_count": null,
      "outputs": [
        {
          "output_type": "stream",
          "name": "stdout",
          "text": [
            "Mounted at /content/drive\n"
          ]
        }
      ]
    },
    {
      "cell_type": "code",
      "execution_count": null,
      "metadata": {
        "id": "3CvnGygtNm5p"
      },
      "outputs": [],
      "source": [
        "#1. Faça um programa que peça um valor monetário e diminua-o em 15%. Seu programa deve imprimir a mensagem “O novo valor é [valor]”.\n",
        "\n",
        "valor = input(\"Informe o valor: \")\n",
        "valor = float(valor)\n",
        "\n",
        "valor = valor-(15/100)\n",
        "print(\"O novo valor é: \",valor)\n"
      ]
    },
    {
      "cell_type": "code",
      "source": [
        "#2. Faça um programa que leia a validade das informações:\n",
        "#a. Idade: entre 0 e 150;\n",
        "#b. Salário: maior que 0;\n",
        "#c. Sexo: M, F ou Outro;\n",
        "#O programa deve imprimir uma mensagem de erro para cada informação inválida.\n",
        "\n",
        "Idade = int(input(\"Informe sua idade: \"))\n",
        "if Idade >= 0 and Idade <= 150:\n",
        "  print(\"Informação idade válida!\")\n",
        "else:\n",
        "  print(\"Informação idade inválida!\")\n",
        "\n",
        "Salario = input (\"Informe seu salário R$: \")\n",
        "Salario = float(Salario)\n",
        "if Salario > 0:\n",
        "  print(\"Informação salário válida!\")\n",
        "else:\n",
        "  print(\"Informação salário inválida!\")\n",
        "\n",
        "\n",
        "Sexo = input(\"Informe seu sexo, M, F ou Outro: \")\n",
        "\n",
        "if Sexo == \"M\":\n",
        "  print(\"Informação sexo válida!\") \n",
        "elif Sexo == \"F\":\n",
        "  print(\"Informação sexo válida!\")\n",
        "elif Sexo == \"Outro\":\n",
        "  print(\"Informação sexo válida!\")\n",
        "else:\n",
        "  print(\"Informação sexo inválida!\")\n",
        "\n"
      ],
      "metadata": {
        "id": "jyhg03ds7Ru6"
      },
      "execution_count": null,
      "outputs": []
    },
    {
      "cell_type": "code",
      "source": [
        "'''3. Vamos fazer um programa para verificar quem é o assassino de um crime.\n",
        "Para descobrir o assassino, a polícia faz um pequeno questionário com 5\n",
        "perguntas onde a resposta só pode ser sim ou não:\n",
        "a. Mora perto da vítima?\n",
        "b. Já trabalhou com a vítima?\n",
        "c. Telefonou para a vítima?\n",
        "d. Esteve no local do crime?\n",
        "e. Devia para a vítima?\n",
        "Cada resposta sim dá um ponto para o suspeito. A polícia considera que os\n",
        "suspeitos com 5 pontos são os assassinos, com 4 a 3 pontos são cúmplices e\n",
        "2 pontos são apenas suspeitos, necessitando outras investigações. Valores\n",
        "iguais ou abaixo de 1 são liberados'''\n",
        "\n",
        "interrogado = input(\"Informe o nome do interrogado: \")\n",
        "perguntas = 0\n",
        "\n",
        "a = input(\"Mora perto da vítima? \")\n",
        "if a == \"Sim\":\n",
        "  perguntas = perguntas + 1\n",
        "\n",
        "b = input(\"Já trabalhou com a vítima? \")\n",
        "if b == \"Sim\":\n",
        "  perguntas = perguntas + 1\n",
        "\n",
        "c = input(\"Telefonou para a vítima? \")\n",
        "if c == \"Sim\":\n",
        "  perguntas = perguntas + 1\n",
        "\n",
        "d = input(\"Esteve no local do crime? \")\n",
        "if d == \"Sim\":\n",
        "  perguntas = perguntas + 1\n",
        "\n",
        "e = input(\"Devia para a vítima? \")\n",
        "if e == \"Sim\":\n",
        "  perguntas = perguntas + 1\n",
        "  \n",
        "if perguntas >= 5:\n",
        "  print(interrogado,\": Você está preso, é o assasino!!!\")\n",
        "elif perguntas == 3 or perguntas == 4:\n",
        "  print(interrogado,\": Está detido, é cúmplice do ocorrido!!\")\n",
        "elif perguntas == 2:\n",
        "  print(interrogado,\": É suspeito, faça mais algumas investigações!!\")\n",
        "else: #Valores iguais ou abaixo de 1 são liberados\n",
        "  print(interrogado,\": Está Liberado!!!\")\n"
      ],
      "metadata": {
        "id": "xxSWA9eEltxx",
        "colab": {
          "base_uri": "https://localhost:8080/"
        },
        "outputId": "0fd17edc-8500-4ce7-cf41-f607f3e04bf3"
      },
      "execution_count": null,
      "outputs": [
        {
          "output_type": "stream",
          "name": "stdout",
          "text": [
            "Informe o nome do interrogado: Lucas\n",
            "Mora perto da vítima? Não\n",
            "Já trabalhou com a vítima? Nõa\n",
            "Telefonou para a vítima? Não\n",
            "Esteve no local do crime? Não\n",
            "Devia para a vítima? Sim\n",
            "Lucas : Está Liberado!!!\n"
          ]
        }
      ]
    },
    {
      "cell_type": "code",
      "source": [
        "#4. Faça um programa que imprima a tabuada do 9 (de 9*1 a 9*10) usando loops.\n",
        "\n",
        "tabuada = 9\n",
        "\n",
        "while tabuada <= 9*10:\n",
        "  print(tabuada)\n",
        "  tabuada = tabuada + 9\n",
        " \n",
        "  \n",
        "\n"
      ],
      "metadata": {
        "id": "syTACQBpsgn_",
        "colab": {
          "base_uri": "https://localhost:8080/"
        },
        "outputId": "716d6896-6275-4373-d584-832ba20c52b4"
      },
      "execution_count": null,
      "outputs": [
        {
          "output_type": "stream",
          "name": "stdout",
          "text": [
            "9\n",
            "18\n",
            "27\n",
            "36\n",
            "45\n",
            "54\n",
            "63\n",
            "72\n",
            "81\n",
            "90\n"
          ]
        }
      ]
    },
    {
      "cell_type": "markdown",
      "source": [
        "# Nova seção"
      ],
      "metadata": {
        "id": "jYqvOLikfWF5"
      }
    }
  ]
}